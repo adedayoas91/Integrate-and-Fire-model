{
 "cells": [
  {
   "cell_type": "code",
   "execution_count": 7,
   "metadata": {},
   "outputs": [],
   "source": [
    "import numpy as np\n",
    "import matplotlib.pyplot as plt"
   ]
  },
  {
   "cell_type": "code",
   "execution_count": 8,
   "metadata": {},
   "outputs": [],
   "source": [
    "def conductance(g_ex, delta_t, tau_ex):\n",
    "    g_ex_new = g_ex - ((g_ex*delta_t)/tau_ex)\n",
    "    return g_ex_new\n",
    "\n",
    "def voltage(v, delta_t, cm, gl, El, g_ex, Eex):\n",
    "    final_voltage = v + (delta_t/cm)*(-gl*(v-El) - g_ex*(v-Eex))\n",
    "    return final_voltage"
   ]
  },
  {
   "cell_type": "code",
   "execution_count": 9,
   "metadata": {},
   "outputs": [],
   "source": [
    "cm = 10\n",
    "gl = 1\n",
    "El = -70\n",
    "Eex = 0\n",
    "tau_ex = 10\n",
    "v_th = -54\n",
    "v_reset = -80\n",
    "\n",
    "delta_g_ex = 0.5\n",
    "delta_t= 0.1"
   ]
  },
  {
   "cell_type": "code",
   "execution_count": 10,
   "metadata": {},
   "outputs": [],
   "source": [
    "Ap_time = [100,200,250, 230, 300,320, 400, 410]\n",
    "total_time_steps = 10000\n",
    "total_time = delta_t*total_time_steps\n",
    "#g_ex_new = np.zeros(total_time_steps)\n",
    "v_all = np.zeros(total_time_steps)\n",
    "\n",
    "g_ex=0.5\n",
    "\n",
    "v = -60\n",
    "\n",
    "for i in range(total_time_steps):\n",
    "    \n",
    "    #print(g_ex_new)\n",
    "    #print(final_voltage)\n",
    "    if np.isin(i*delta_t, Ap_time):\n",
    "        g_ex = g_ex + delta_g_ex\n",
    "        \n",
    "    if v == 20:\n",
    "        v_new = v_reset\n",
    "    elif v>= v_th:\n",
    "        v_new = 20\n",
    "    else:\n",
    "        g_ex_new = conductance(g_ex, delta_t, tau_ex)\n",
    "        v_new = voltage(v, delta_t, cm, gl, El, g_ex_new, Eex)\n",
    "        \n",
    "        \n",
    "    \n",
    "    \n",
    "    v_all[i] = v_new\n",
    "    v = v_new\n",
    "    g_ex= g_ex_new\n",
    "        \n",
    "        "
   ]
  },
  {
   "cell_type": "code",
   "execution_count": 11,
   "metadata": {},
   "outputs": [
    {
     "data": {
      "image/png": "[encoded data removed]",
      "text/plain": [
       "<Figure size 432x288 with 1 Axes>"
      ]
     },
     "metadata": {
      "needs_background": "light"
     },
     "output_type": "display_data"
    }
   ],
   "source": [
    "plt.plot(np.arange(0, total_time_steps)*delta_t,v_all)\n",
    "plt.show()"
   ]
  },
  {
   "cell_type": "code",
   "execution_count": 12,
   "metadata": {},
   "outputs": [
    {
     "data": {
      "text/plain": [
       "'g_ex_new = g_ex_new + delta_g_ex\\nplt.plot(final_voltage,g_ex_new)\\nplt.show()'"
      ]
     },
     "execution_count": 12,
     "metadata": {},
     "output_type": "execute_result"
    }
   ],
   "source": [
    "\"\"\"g_ex_new = g_ex_new + delta_g_ex\n",
    "plt.plot(final_voltage,g_ex_new)\n",
    "plt.show()\"\"\""
   ]
  },
  {
   "cell_type": "code",
   "execution_count": null,
   "metadata": {},
   "outputs": [],
   "source": []
  }
 ],
 "metadata": {
  "kernelspec": {
   "display_name": "Python 3",
   "language": "python",
   "name": "python3"
  },
  "language_info": {
   "codemirror_mode": {
    "name": "ipython",
    "version": 3
   },
   "file_extension": ".py",
   "mimetype": "text/x-python",
   "name": "python",
   "nbconvert_exporter": "python",
   "pygments_lexer": "ipython3",
   "version": "3.7.1"
  }
 },
 "nbformat": 4,
 "nbformat_minor": 2
}
